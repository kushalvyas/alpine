{
 "cells": [
  {
   "cell_type": "code",
   "execution_count": null,
   "metadata": {},
   "outputs": [],
   "source": [
    "%load_ext autoreload\n",
    "%autoreload 2"
   ]
  },
  {
   "cell_type": "code",
   "execution_count": null,
   "metadata": {},
   "outputs": [],
   "source": [
    "import os\n",
    "os.environ['CUDA_VISIBLE_DEVICES'] = '1'"
   ]
  },
  {
   "cell_type": "code",
   "execution_count": null,
   "metadata": {},
   "outputs": [],
   "source": [
    "import alpine"
   ]
  },
  {
   "cell_type": "code",
   "execution_count": null,
   "metadata": {},
   "outputs": [],
   "source": [
    "import torch\n",
    "import numpy as np\n",
    "import skimage.data, skimage.io\n",
    "\n",
    "\n",
    "from matplotlib import pyplot as plt\n",
    "from functools import partial\n",
    "from torchmetrics.image import PeakSignalNoiseRatio, StructuralSimilarityIndexMeasure\n",
    "from torchmetrics import MetricTracker"
   ]
  },
  {
   "cell_type": "code",
   "execution_count": null,
   "metadata": {},
   "outputs": [],
   "source": [
    "import alpine"
   ]
  },
  {
   "cell_type": "code",
   "execution_count": null,
   "metadata": {},
   "outputs": [],
   "source": [
    "from alpine.models import Siren\n",
    "from alpine.models.utils import get_coords_nd, get_coords_spatial\n",
    "from alpine.vis import pca"
   ]
  },
  {
   "cell_type": "code",
   "execution_count": null,
   "metadata": {},
   "outputs": [],
   "source": [
    "epochs = 2000"
   ]
  },
  {
   "cell_type": "code",
   "execution_count": null,
   "metadata": {},
   "outputs": [],
   "source": [
    "siren_model = Siren(in_features=2, out_features=3, hidden_features=256, hidden_layers=5, outermost_linear=True).cuda()\n",
    "print(siren_model)\n",
    "siren_model.compile()\n",
    "# siren_model.compile(scheduler=partial(torch.optim.lr_scheduler.LambdaLR, lr_lambda=lambda x:  0.1**min(x/1000,1)))"
   ]
  },
  {
   "cell_type": "code",
   "execution_count": null,
   "metadata": {},
   "outputs": [],
   "source": [
    "coords = get_coords_spatial(256, 256).cuda()[None,...]\n",
    "print(coords.shape)"
   ]
  },
  {
   "cell_type": "code",
   "execution_count": null,
   "metadata": {},
   "outputs": [],
   "source": [
    "output = siren_model(coords)\n",
    "print(output['output'].shape)"
   ]
  },
  {
   "cell_type": "code",
   "execution_count": null,
   "metadata": {},
   "outputs": [],
   "source": [
    "import skimage.transform\n",
    "\n",
    "\n",
    "gt_img = skimage.transform.resize(skimage.data.astronaut(), (256,256))\n",
    "gt = torch.from_numpy(gt_img).float().cuda()[None,...]\n",
    "\n"
   ]
  },
  {
   "cell_type": "code",
   "execution_count": null,
   "metadata": {},
   "outputs": [],
   "source": [
    "print(siren_model)"
   ]
  },
  {
   "cell_type": "code",
   "execution_count": null,
   "metadata": {},
   "outputs": [],
   "source": [
    "print(epochs, coords.shape)"
   ]
  },
  {
   "cell_type": "code",
   "execution_count": null,
   "metadata": {},
   "outputs": [],
   "source": [
    "outputs = siren_model.fit_signal(coords, signal=gt, n_iters=epochs, enable_tqdm=True, return_features=True, \n",
    "                                    metric_trackers = {'psnr': MetricTracker(PeakSignalNoiseRatio().to('cuda'))}, track_loss_histroy=True)"
   ]
  },
  {
   "cell_type": "code",
   "execution_count": null,
   "metadata": {},
   "outputs": [],
   "source": [
    "output = outputs['output']\n",
    "all_metrics = outputs['metrics']\n",
    "for m, mv in all_metrics.items():\n",
    "    plt.figure()\n",
    "    plt.plot(mv.numpy())\n",
    "    plt.title(m)\n",
    "    plt.show()"
   ]
  },
  {
   "cell_type": "markdown",
   "metadata": {},
   "source": [
    "### Visualizing INR output"
   ]
  },
  {
   "cell_type": "code",
   "execution_count": null,
   "metadata": {},
   "outputs": [],
   "source": [
    "# output = siren_model.render(coords)['output']\n",
    "plt.figure()\n",
    "plt.imshow(output.cpu().detach().numpy().reshape(256,256,3))\n",
    "plt.axis('off')\n",
    "plt.show()"
   ]
  },
  {
   "cell_type": "markdown",
   "metadata": {},
   "source": [
    "### Visualizing PCA features of learned INR features"
   ]
  },
  {
   "cell_type": "code",
   "execution_count": null,
   "metadata": {},
   "outputs": [],
   "source": [
    "print(outputs.keys())\n",
    "features = torch.stack(outputs['features'],dim=0).squeeze()\n",
    "print(features.shape)"
   ]
  },
  {
   "cell_type": "code",
   "execution_count": null,
   "metadata": {},
   "outputs": [],
   "source": [
    "feats = pca.compute_pca_features(features[None,...], num_components=5, signal_shape=(256,256))\n",
    "print(feats.shape)"
   ]
  },
  {
   "cell_type": "code",
   "execution_count": null,
   "metadata": {},
   "outputs": [],
   "source": [
    "fig, ax = plt.subplots(feats.shape[0], feats.shape[-1])\n",
    "for i in range(feats.shape[0]):\n",
    "    for j in range(feats.shape[-1]):\n",
    "        ax[i,j].imshow(feats[i,...,j].cpu().detach().numpy())\n",
    "        ax[i,j].axis('off')\n",
    "\n",
    "plt.suptitle(\"PCA features of all INR layers\")\n",
    "plt.show()"
   ]
  },
  {
   "cell_type": "markdown",
   "metadata": {},
   "source": [
    "### Visualizing deep network geometry using Local Complexity by Humayun et.al"
   ]
  },
  {
   "cell_type": "code",
   "execution_count": null,
   "metadata": {},
   "outputs": [],
   "source": [
    "from alpine.vis import partitions"
   ]
  },
  {
   "cell_type": "code",
   "execution_count": null,
   "metadata": {},
   "outputs": [],
   "source": [
    "NUM_SAMPLED_POINTS = 1024"
   ]
  },
  {
   "cell_type": "code",
   "execution_count": null,
   "metadata": {},
   "outputs": [],
   "source": [
    "input_space_subdivision = partitions.get_partitions_from_inr(\n",
    "    x_bounds=[-1, 1],\n",
    "    y_bounds=[-1, 1],\n",
    "    model = siren_model,\n",
    "    signal_dims = (256, 256),\n",
    "    sampled_points = NUM_SAMPLED_POINTS,\n",
    "    sampled_points_batch_sizes= 256,\n",
    ")"
   ]
  },
  {
   "cell_type": "code",
   "execution_count": null,
   "metadata": {},
   "outputs": [],
   "source": [
    "partitions.show_partitions(input_space_subdivision.detach().cpu().numpy(), normalize_each=True, dpi=80)"
   ]
  }
 ],
 "metadata": {
  "kernelspec": {
   "display_name": "Python 3",
   "language": "python",
   "name": "python3"
  },
  "language_info": {
   "codemirror_mode": {
    "name": "ipython",
    "version": 3
   },
   "file_extension": ".py",
   "mimetype": "text/x-python",
   "name": "python",
   "nbconvert_exporter": "python",
   "pygments_lexer": "ipython3",
   "version": "3.10.16"
  }
 },
 "nbformat": 4,
 "nbformat_minor": 2
}
