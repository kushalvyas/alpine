{
 "cells": [
  {
   "cell_type": "code",
   "execution_count": null,
   "metadata": {},
   "outputs": [],
   "source": [
    "%load_ext autoreload\n",
    "%autoreload 2\n",
    "\n"
   ]
  },
  {
   "cell_type": "code",
   "execution_count": null,
   "metadata": {},
   "outputs": [],
   "source": [
    "import os\n",
    "\n",
    "os.environ['CUDA_VISIBLE_DEVICES'] = '6'"
   ]
  },
  {
   "cell_type": "code",
   "execution_count": null,
   "metadata": {},
   "outputs": [],
   "source": [
    "import numpy as np\n",
    "from matplotlib import pyplot as plt\n",
    "import torch, torch.nn as nn\n",
    "import os, os.path as osp\n",
    "import sys\n",
    "import time\n",
    "from torchmetrics.image import PeakSignalNoiseRatio\n",
    "from torchmetrics import MetricTracker\n",
    "import skimage, skimage.io, skimage.transform, skimage.filters\n",
    "\n",
    "import alpine\n",
    "from functools import partial\n"
   ]
  },
  {
   "cell_type": "code",
   "execution_count": null,
   "metadata": {},
   "outputs": [],
   "source": [
    "NUM_ITERATIONS = 20000\n"
   ]
  },
  {
   "cell_type": "code",
   "execution_count": null,
   "metadata": {},
   "outputs": [],
   "source": [
    "class MSE_TV_Loss(nn.Module):\n",
    "    def __init__(self, weight=1.0):\n",
    "        super(MSE_TV_Loss, self).__init__()\n",
    "        self.weight = weight\n",
    "        self.mse = nn.MSELoss()\n",
    "        \n",
    "    def forward(self, x, y):\n",
    "        mse = self.mse(x['output'], y['signal'])\n",
    "        tv_img = x['output_img'].permute(0, 3,1,2)\n",
    "        tv = torch.mean(torch.abs(tv_img[:, :, 1:, :] - tv_img[:, :, :-1, :])) + \\\n",
    "            torch.mean(torch.abs(tv_img[:, :, :, 1:] - tv_img[:, :, :, :-1]))\n",
    "        if torch.isnan(tv):\n",
    "            tv = 0\n",
    "        return mse + self.weight * tv"
   ]
  },
  {
   "cell_type": "code",
   "execution_count": null,
   "metadata": {},
   "outputs": [],
   "source": [
    "wire_model = alpine.models.Wire( in_features = 2, hidden_features = 300, hidden_layers=4, out_features=1, omegas=[10.0], sigmas=[10.0,]).float().cuda()\n",
    "\n",
    "scheduler = partial(torch.optim.lr_scheduler.LambdaLR, lr_lambda=lambda x: 0.1**(min(x/NUM_ITERATIONS, 1.0)) )\n",
    "wire_model.register_loss_function(MSE_TV_Loss(weight=0.1).float().cuda())\n",
    "wire_model.compile(learning_rate=5e-3, scheduler=scheduler)\n",
    "print(wire_model)\n"
   ]
  },
  {
   "cell_type": "code",
   "execution_count": null,
   "metadata": {},
   "outputs": [],
   "source": [
    "image = skimage.io.imread(\"./data/chest.png\").astype(np.float32)\n",
    "image = (image - image.min())/(image.max() - image.min())\n",
    "plt.figure()\n",
    "plt.imshow(image)\n",
    "plt.axis('off')\n",
    "plt.colorbar()\n",
    "plt.show()\n",
    "\n",
    "H, W = image.shape\n",
    "print(H, W)\n",
    "\n",
    "# gt_signal = torch.from_numpy(image).float().cuda()[None,...,None]\n",
    "# print(gt_signal.shape)\n",
    "# print(gt_signal.min(), gt_signal.max())"
   ]
  },
  {
   "cell_type": "code",
   "execution_count": null,
   "metadata": {},
   "outputs": [],
   "source": [
    "import kornia.geometry\n",
    "def radon(imten, angles, is_3d=False):\n",
    "    '''\n",
    "        Compute forward radon operation\n",
    "        \n",
    "        Inputs:\n",
    "            imten: (1, nimg, H, W) image tensor\n",
    "            angles: (nangles) angles tensor -- should be on same device as \n",
    "                imten\n",
    "        Outputs:\n",
    "            sinogram: (nimg, nangles, W) sinogram\n",
    "    '''\n",
    "    nangles = len(angles)\n",
    "    imten_rep = torch.repeat_interleave(imten, nangles, 0)\n",
    "    \n",
    "    imten_rot = kornia.geometry.rotate(imten_rep, angles)\n",
    "    \n",
    "    if is_3d:\n",
    "        sinogram = imten_rot.sum(2).squeeze().permute(1, 0, 2)\n",
    "    else:\n",
    "        sinogram = imten_rot.sum(2).squeeze()\n",
    "        \n",
    "    return sinogram"
   ]
  },
  {
   "cell_type": "code",
   "execution_count": null,
   "metadata": {},
   "outputs": [],
   "source": [
    "image_tensor = torch.tensor(image).float().cuda()[None,None,...]\n",
    "print(image_tensor.shape)"
   ]
  },
  {
   "cell_type": "code",
   "execution_count": null,
   "metadata": {},
   "outputs": [],
   "source": [
    "with torch.no_grad():\n",
    "    thetas = torch.tensor(np.linspace(0, 180, 100, dtype=np.float32)).cuda()\n",
    "    sinogram = radon(image_tensor, thetas)[None,...]"
   ]
  },
  {
   "cell_type": "code",
   "execution_count": null,
   "metadata": {},
   "outputs": [],
   "source": [
    "coords = alpine.utils.get_coords_spatial(H, W).float().cuda()[None,...]\n",
    "print(coords.shape)"
   ]
  },
  {
   "cell_type": "code",
   "execution_count": null,
   "metadata": {},
   "outputs": [],
   "source": [
    "def inverse_ct_closure(model_ctx, input, signal, iteration, return_features=False):\n",
    "    output_packet = model_ctx(input)\n",
    "    output_img = output_packet['output']\n",
    "    output_sinogram = radon(output_img.permute(0, 3, 1, 2), thetas)[None,...]\n",
    "    return {'output' : output_sinogram, 'output_img':output_img}\n",
    "    \n"
   ]
  },
  {
   "cell_type": "code",
   "execution_count": null,
   "metadata": {},
   "outputs": [],
   "source": [
    "fit_output = wire_model.fit_signal(input = coords, \n",
    "                                   signal = sinogram, \n",
    "                                   closure=inverse_ct_closure, \n",
    "                                   n_iters=NUM_ITERATIONS,\n",
    "                                   enable_tqdm = True, \n",
    "                                   save_best_weights = True,\n",
    "                                   metric_trackers={'psnr':MetricTracker(PeakSignalNoiseRatio().cuda())})"
   ]
  },
  {
   "cell_type": "code",
   "execution_count": null,
   "metadata": {},
   "outputs": [],
   "source": [
    "output = wire_model.render(coords, use_best_weights=True)"
   ]
  },
  {
   "cell_type": "code",
   "execution_count": null,
   "metadata": {},
   "outputs": [],
   "source": [
    "outimg = np.clip(output['output'].detach().cpu().numpy()[0,...],0,1)\n",
    "print(outimg.shape, outimg.min(), outimg.max())"
   ]
  },
  {
   "cell_type": "code",
   "execution_count": null,
   "metadata": {},
   "outputs": [],
   "source": [
    "plt.figure()\n",
    "plt.imshow(output['output'].detach().cpu().numpy()[0,...], cmap='gray')\n",
    "plt.axis('off')\n",
    "plt.savefig('./output/ct_recon3.pdf', bbox_inches='tight', pad_inches=0, dpi=300)\n",
    "plt.show()\n"
   ]
  },
  {
   "cell_type": "code",
   "execution_count": null,
   "metadata": {},
   "outputs": [],
   "source": [
    "import skimage.metrics\n",
    "\n",
    "print(skimage.metrics.peak_signal_noise_ratio(image.flatten(), output['output'].detach().cpu().numpy()[0,...].flatten(), data_range=1.0)) "
   ]
  },
  {
   "cell_type": "code",
   "execution_count": null,
   "metadata": {},
   "outputs": [],
   "source": []
  },
  {
   "cell_type": "code",
   "execution_count": null,
   "metadata": {},
   "outputs": [],
   "source": []
  }
 ],
 "metadata": {
  "kernelspec": {
   "display_name": "Python 3",
   "language": "python",
   "name": "python3"
  },
  "language_info": {
   "codemirror_mode": {
    "name": "ipython",
    "version": 3
   },
   "file_extension": ".py",
   "mimetype": "text/x-python",
   "name": "python",
   "nbconvert_exporter": "python",
   "pygments_lexer": "ipython3",
   "version": "3.10.16"
  }
 },
 "nbformat": 4,
 "nbformat_minor": 2
}
