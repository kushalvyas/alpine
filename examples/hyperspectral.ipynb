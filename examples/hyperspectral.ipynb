{
 "cells": [
  {
   "cell_type": "code",
   "execution_count": null,
   "id": "eeff5249",
   "metadata": {},
   "outputs": [],
   "source": [
    "%load_ext autoreload\n",
    "%autoreload 2\n"
   ]
  },
  {
   "cell_type": "code",
   "execution_count": null,
   "id": "91475a3a",
   "metadata": {},
   "outputs": [],
   "source": [
    "import os, os.path as osp\n",
    "import numpy as np\n",
    "import torch\n",
    "import torch.nn as nn\n",
    "import scipy.io\n",
    "\n",
    "import matplotlib.pyplot as plt"
   ]
  },
  {
   "cell_type": "code",
   "execution_count": null,
   "id": "df9681a8",
   "metadata": {},
   "outputs": [],
   "source": [
    "import alpine"
   ]
  },
  {
   "cell_type": "code",
   "execution_count": null,
   "id": "80bbd3f6",
   "metadata": {},
   "outputs": [],
   "source": [
    "datafile = \"./data/hyperspectral/icvl.mat\"\n"
   ]
  },
  {
   "cell_type": "code",
   "execution_count": null,
   "id": "8a8717d3",
   "metadata": {},
   "outputs": [],
   "source": [
    "matdata = scipy.io.loadmat(datafile)\n",
    "\n",
    "cube, wvls = matdata[\"hypercube\"], matdata[\"wavelengths\"]"
   ]
  },
  {
   "cell_type": "code",
   "execution_count": null,
   "id": "0332c4ad",
   "metadata": {},
   "outputs": [],
   "source": [
    "cube.min(), cube.max()"
   ]
  },
  {
   "cell_type": "code",
   "execution_count": null,
   "id": "98a9a065",
   "metadata": {},
   "outputs": [],
   "source": [
    "cube = np.float32(cube)\n",
    "normalized_cube = ((cube) - cube.min()) / (cube.max() - cube.min())\n",
    "print(normalized_cube.min(), normalized_cube.max())"
   ]
  },
  {
   "cell_type": "code",
   "execution_count": null,
   "id": "81cf485f",
   "metadata": {},
   "outputs": [],
   "source": [
    "print(cube.shape)\n",
    "print(wvls.shape)\n",
    "print(normalized_cube.shape)"
   ]
  },
  {
   "cell_type": "code",
   "execution_count": null,
   "id": "d3c9638d",
   "metadata": {},
   "outputs": [],
   "source": [
    "H, W, lmda = cube.shape\n",
    "lmdaT = 52\n",
    "coords = alpine.utils.get_coords_spatial(H, W, lmdaT)[None,...].float().cuda()\n",
    "print(coords.shape)"
   ]
  },
  {
   "cell_type": "code",
   "execution_count": null,
   "id": "7ba6ad0e",
   "metadata": {},
   "outputs": [],
   "source": [
    "# dataset = alpine.dataloaders.BatchedNDSignalLoader(signal = normalized_cube, grid_dims = [H,W,lmda], normalize_signal = False)\n",
    "# dataloader = torch.utils.data.DataLoader(dataset, batch_size = int(1e3), shuffle = False, num_workers = 16, pin_memory = True)"
   ]
  },
  {
   "cell_type": "code",
   "execution_count": null,
   "id": "93c95da6",
   "metadata": {},
   "outputs": [],
   "source": [
    "hyperspectral_compression = alpine.models.Siren(\n",
    "    in_features=3,\n",
    "    out_features=1,\n",
    "    hidden_layers = 4,\n",
    "    hidden_features = 256,\n",
    "    outermost_linear = True,\n",
    ").float().cuda()"
   ]
  },
  {
   "cell_type": "code",
   "execution_count": null,
   "id": "fe3b9771",
   "metadata": {},
   "outputs": [],
   "source": [
    "EPOCHS = 5000"
   ]
  },
  {
   "cell_type": "code",
   "execution_count": null,
   "id": "6a4f6770",
   "metadata": {},
   "outputs": [],
   "source": [
    "fit_spectrum = hyperspectral_compression.fit_signal(dataloader=dataloader, enable_tqdm=True, n_iters = EPOCHS)  "
   ]
  },
  {
   "cell_type": "code",
   "execution_count": null,
   "id": "e95c5e60",
   "metadata": {},
   "outputs": [],
   "source": [
    "output = hyperspectral_compression.render(coords[...,100,:])"
   ]
  },
  {
   "cell_type": "code",
   "execution_count": null,
   "id": "5e786ed0",
   "metadata": {},
   "outputs": [],
   "source": [
    "plt.figure()\n",
    "plt.imshow(output['output'][0].cpu().detach().numpy(), cmap=\"gray\")"
   ]
  },
  {
   "cell_type": "code",
   "execution_count": null,
   "id": "78ef34a2",
   "metadata": {},
   "outputs": [],
   "source": []
  }
 ],
 "metadata": {
  "kernelspec": {
   "display_name": "Python 3",
   "language": "python",
   "name": "python3"
  },
  "language_info": {
   "codemirror_mode": {
    "name": "ipython",
    "version": 3
   },
   "file_extension": ".py",
   "mimetype": "text/x-python",
   "name": "python",
   "nbconvert_exporter": "python",
   "pygments_lexer": "ipython3",
   "version": "3.10.16"
  }
 },
 "nbformat": 4,
 "nbformat_minor": 5
}
