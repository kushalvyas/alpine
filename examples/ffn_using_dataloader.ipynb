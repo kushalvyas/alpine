{
 "cells": [
  {
   "cell_type": "markdown",
   "id": "878282fc",
   "metadata": {},
   "source": [
    "## Using coordinate batches for training signals in `alpine`"
   ]
  },
  {
   "cell_type": "code",
   "execution_count": null,
   "id": "e45a7ee7",
   "metadata": {},
   "outputs": [],
   "source": [
    "%load_ext autoreload\n",
    "%autoreload 2"
   ]
  },
  {
   "cell_type": "code",
   "execution_count": null,
   "id": "fda54cff",
   "metadata": {},
   "outputs": [],
   "source": [
    "import numpy as np\n",
    "import os\n",
    "import torch\n",
    "import skimage.io\n",
    "import skimage.transform\n",
    "import skimage.filters\n",
    "import skimage.data\n",
    "\n",
    "import alpine\n",
    "from matplotlib import pyplot as plt"
   ]
  },
  {
   "cell_type": "code",
   "execution_count": null,
   "id": "9252116c",
   "metadata": {},
   "outputs": [],
   "source": [
    "os.environ['CUDA_VISIBLE_DEVICES'] = '3,4'"
   ]
  },
  {
   "cell_type": "code",
   "execution_count": null,
   "id": "a36214bf",
   "metadata": {},
   "outputs": [],
   "source": [
    "H, W = 512, 512\n",
    "vectorized = True\n",
    "bounds = (-1, 1)\n",
    "\n",
    "batch_size = 100 * 100\n"
   ]
  },
  {
   "cell_type": "code",
   "execution_count": null,
   "id": "90edc5e5",
   "metadata": {},
   "outputs": [],
   "source": [
    "signal = skimage.transform.resize(skimage.data.astronaut(), (H, W), anti_aliasing=True)\n",
    "print(signal.shape)"
   ]
  },
  {
   "cell_type": "code",
   "execution_count": null,
   "id": "67d6afae",
   "metadata": {},
   "outputs": [],
   "source": [
    "coordinate_signal_loader = alpine.dataloaders.NDSignalLoader(\n",
    "    signal = signal,\n",
    "    grid_dims = [H, W],\n",
    "    bounds = bounds,\n",
    "    normalize_signal = True,\n",
    "    vectorized = vectorized,\n",
    ")"
   ]
  },
  {
   "cell_type": "code",
   "execution_count": null,
   "id": "de2019a5",
   "metadata": {},
   "outputs": [],
   "source": [
    "dataloader = torch.utils.data.DataLoader(coordinate_signal_loader, batch_size=1, shuffle=False)"
   ]
  },
  {
   "cell_type": "code",
   "execution_count": null,
   "id": "3003247e",
   "metadata": {},
   "outputs": [],
   "source": [
    "ffn_model = alpine.models.FFN(\n",
    "    in_features=2,\n",
    "    out_features=3,\n",
    "    hidden_features=256,\n",
    "    hidden_layers=4,\n",
    "    positional_encoding='fourier'\n",
    ").float().cuda()"
   ]
  },
  {
   "cell_type": "code",
   "execution_count": null,
   "id": "bc174e80",
   "metadata": {},
   "outputs": [],
   "source": [
    "for l in ffn_model.model:\n",
    "    print(list(l.parameters()))"
   ]
  },
  {
   "cell_type": "code",
   "execution_count": null,
   "id": "45c6b330",
   "metadata": {},
   "outputs": [],
   "source": [
    "ret_fit = ffn_model.fit_signal(\n",
    "    dataloader=dataloader,\n",
    "    n_iters = 2000,\n",
    "    track_loss_history = True)"
   ]
  },
  {
   "cell_type": "code",
   "execution_count": null,
   "id": "878779e4",
   "metadata": {},
   "outputs": [],
   "source": [
    "plt.figure()\n",
    "plt.imshow(ret_fit['output'].detach().cpu().numpy().reshape(H, W, 3))\n",
    "plt.show()"
   ]
  },
  {
   "cell_type": "code",
   "execution_count": null,
   "id": "06ba27c5",
   "metadata": {},
   "outputs": [],
   "source": []
  }
 ],
 "metadata": {
  "kernelspec": {
   "display_name": "Python 3",
   "language": "python",
   "name": "python3"
  },
  "language_info": {
   "codemirror_mode": {
    "name": "ipython",
    "version": 3
   },
   "file_extension": ".py",
   "mimetype": "text/x-python",
   "name": "python",
   "nbconvert_exporter": "python",
   "pygments_lexer": "ipython3",
   "version": "3.10.16"
  }
 },
 "nbformat": 4,
 "nbformat_minor": 5
}
