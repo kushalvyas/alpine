{
 "cells": [
  {
   "cell_type": "code",
   "execution_count": null,
   "metadata": {},
   "outputs": [],
   "source": [
    "%load_ext autoreload\n",
    "%autoreload 2"
   ]
  },
  {
   "cell_type": "code",
   "execution_count": null,
   "metadata": {},
   "outputs": [],
   "source": [
    "import os\n",
    "os.environ['CUDA_VISIBLE_DEVICES'] = '2'"
   ]
  },
  {
   "cell_type": "code",
   "execution_count": null,
   "metadata": {},
   "outputs": [],
   "source": [
    "import numpy as np\n",
    "from matplotlib import pyplot as plt\n",
    "import torch\n",
    "import torch.nn as nn\n",
    "import numpy as np"
   ]
  },
  {
   "cell_type": "code",
   "execution_count": null,
   "metadata": {},
   "outputs": [],
   "source": [
    "import alpine"
   ]
  },
  {
   "cell_type": "code",
   "execution_count": null,
   "metadata": {},
   "outputs": [],
   "source": [
    "# Function credits to @jgbrasier from Medium: \n",
    "# https://medium.com/@jgbrasier/working-with-pdb-files-in-python-7b538ee1b5e4\n",
    "\n",
    "import pandas as pd\n",
    "from biopandas.pdb import PandasPdb\n",
    "from prody import parsePDBHeader\n",
    "from typing import Optional\n",
    "\n",
    "def read_pdb_to_dataframe(\n",
    "    pdb_path: Optional[str] = None,\n",
    "    model_index: int = 1,\n",
    "    parse_header: bool = True,\n",
    "    ) -> pd.DataFrame:\n",
    "    \"\"\"\n",
    "    Read a PDB file, and return a Pandas DataFrame containing the atomic coordinates and metadata.\n",
    "\n",
    "    Args:\n",
    "        pdb_path (str, optional): Path to a local PDB file to read. Defaults to None.\n",
    "        model_index (int, optional): Index of the model to extract from the PDB file, in case\n",
    "            it contains multiple models. Defaults to 1.\n",
    "        parse_header (bool, optional): Whether to parse the PDB header and extract metadata.\n",
    "            Defaults to True.\n",
    "\n",
    "    Returns:\n",
    "        pd.DataFrame: A DataFrame containing the atomic coordinates and metadata, with one row\n",
    "            per atom\n",
    "    \"\"\"\n",
    "    atomic_df = PandasPdb().read_pdb(pdb_path)\n",
    "    if parse_header:\n",
    "        header = parsePDBHeader(pdb_path)\n",
    "    else:\n",
    "        header = None\n",
    "    atomic_df = atomic_df.get_model(model_index)\n",
    "    if len(atomic_df.df[\"ATOM\"]) == 0:\n",
    "        raise ValueError(f\"No model found for index: {model_index}\")\n",
    "\n",
    "    return pd.concat([atomic_df.df[\"ATOM\"], atomic_df.df[\"HETATM\"], ]), header"
   ]
  },
  {
   "cell_type": "code",
   "execution_count": null,
   "metadata": {},
   "outputs": [],
   "source": [
    "protein_filename = \"./data/proteins/149l.pdb\""
   ]
  },
  {
   "cell_type": "code",
   "execution_count": null,
   "metadata": {},
   "outputs": [],
   "source": [
    "protein_data , header = read_pdb_to_dataframe(protein_filename)"
   ]
  },
  {
   "cell_type": "code",
   "execution_count": null,
   "metadata": {},
   "outputs": [],
   "source": [
    "print(protein_data['occupancy'].unique())"
   ]
  },
  {
   "cell_type": "code",
   "execution_count": null,
   "metadata": {},
   "outputs": [],
   "source": [
    "print(protein_data.shape)\n",
    "print(header.keys())\n",
    "protein_data"
   ]
  },
  {
   "cell_type": "code",
   "execution_count": null,
   "metadata": {},
   "outputs": [],
   "source": [
    "all_labels = protein_data['occupancy'].unique()\n",
    "print(all_labels)"
   ]
  },
  {
   "cell_type": "code",
   "execution_count": null,
   "metadata": {},
   "outputs": [],
   "source": [
    "protein_data.loc[protein_data['atom_name']=='C5', ['x_coord', 'y_coord', 'z_coord']].values\n"
   ]
  },
  {
   "cell_type": "code",
   "execution_count": null,
   "metadata": {},
   "outputs": [],
   "source": [
    "all_atoms = protein_data['atom_name'].unique()\n",
    "print(all_atoms)\n",
    "\n",
    "\n",
    "pts_coords_occupancy = []\n",
    "\n",
    "for atom in all_atoms:\n",
    "    atom_coords = protein_data.loc[protein_data['atom_name']==atom, ['x_coord', 'y_coord', 'z_coord', 'occupancy']]\n",
    "    pts_coords_occupancy.extend(atom_coords.values)\n",
    "\n",
    "    \n",
    "    "
   ]
  },
  {
   "cell_type": "code",
   "execution_count": null,
   "metadata": {},
   "outputs": [],
   "source": [
    "pts_coords_occupancy_np = np.array(pts_coords_occupancy)\n",
    "print(pts_coords_occupancy_np.shape)"
   ]
  },
  {
   "cell_type": "code",
   "execution_count": null,
   "metadata": {},
   "outputs": [],
   "source": [
    "print(pts_coords_occupancy_np[:,0].min(), pts_coords_occupancy_np[:,0].max())\n",
    "print(pts_coords_occupancy_np[:,1].min(), pts_coords_occupancy_np[:,1].max())\n",
    "print(pts_coords_occupancy_np[:,2].min(), pts_coords_occupancy_np[:,2].max())"
   ]
  },
  {
   "cell_type": "code",
   "execution_count": null,
   "metadata": {},
   "outputs": [],
   "source": [
    "\n",
    "# hidx,widx,tidx = np.where(pts_coords_occupancy_np > 0.99)\n",
    "# occupancy_values = pts_coords_occupancy_np[hidx.min():hidx.max(), widx.min():widx.max(), tidx.min():tidx.max()]\n"
   ]
  },
  {
   "cell_type": "code",
   "execution_count": null,
   "metadata": {},
   "outputs": [],
   "source": [
    "H_max, H_min = pts_coords_occupancy_np[:,0].max(),  pts_coords_occupancy_np[:,0].min() \n",
    "W_max, W_min = pts_coords_occupancy_np[:,1].max(),  pts_coords_occupancy_np[:,1].min()\n",
    "D_max, D_min = pts_coords_occupancy_np[:,2].max(),  pts_coords_occupancy_np[:,2].min()\n",
    "\n",
    "H = np.round(pts_coords_occupancy_np[:,0].max() - pts_coords_occupancy_np[:,0].min())\n",
    "W = np.round(pts_coords_occupancy_np[:,1].max() - pts_coords_occupancy_np[:,1].min())\n",
    "D = np.round(pts_coords_occupancy_np[:,2].max() - pts_coords_occupancy_np[:,2].min())\n",
    "\n",
    "print(H, W, D)\n",
    "# coords = alpine.utils.coords.get_coords_spatial(int(H), int(W), int(D), bounds=(0, 1)).cuda()\n",
    "\n",
    "# print(coords.shape)"
   ]
  },
  {
   "cell_type": "code",
   "execution_count": null,
   "metadata": {},
   "outputs": [],
   "source": [
    "coords = alpine.utils.coords.get_coords_spatial(int(H), int(W), int(D), bounds=(0, 1)).float().cuda()\n",
    "\n"
   ]
  },
  {
   "cell_type": "code",
   "execution_count": null,
   "metadata": {},
   "outputs": [],
   "source": [
    "occupancy_values = np.zeros((int(H), int(W), int(D), 1))\n",
    "for i in range(pts_coords_occupancy_np.shape[0]):\n",
    "    x, y, z, occ = pts_coords_occupancy_np[i]\n",
    "    x, y, z = np.round(x), np.round(y), np.round(z)\n",
    "    # convert to 0-1 coordinate scale\n",
    "    print(x,y,z)\n",
    "    xnew = (x - H_min) / H\n",
    "    ynew = (y - W_min) / W\n",
    "    znew = (z - D_min) / D\n",
    "\n",
    "    xnew = int(np.clip(int(xnew * H),0,H-1))\n",
    "    ynew = int(np.clip(int(ynew * W),0,W-1))\n",
    "    znew = int(np.clip(int(znew * D),0,D-1))\n",
    "    occupancy_values[xnew, ynew, znew] = occ\n",
    "\n",
    "occupancy_tensor = torch.from_numpy(occupancy_values).float().cuda()"
   ]
  },
  {
   "cell_type": "code",
   "execution_count": null,
   "metadata": {},
   "outputs": [],
   "source": [
    "# siren_sdf = alpine.models.Siren(in_features=3, out_features=1, hidden_features=512, hidden_layers=3, outermost_linear=True).float().cuda()\n",
    "# siren_sdf.compile()\n",
    "\n",
    "sdf_inr = alpine.models.FFN(in_features=3, out_features=1, hidden_features=512, hidden_layers=5, outermost_linear=True).float().cuda()\n",
    "sdf_inr.compile()\n",
    "\n",
    "print(sdf_inr)"
   ]
  },
  {
   "cell_type": "code",
   "execution_count": null,
   "metadata": {},
   "outputs": [],
   "source": [
    "sdf_fitting = sdf_inr.fit_signal(\n",
    "    input = coords[None,...], \n",
    "    signal = occupancy_tensor[None,...],\n",
    "    n_iters=5000,\n",
    "    enable_tqdm=True,\n",
    "    \n",
    ")"
   ]
  },
  {
   "cell_type": "code",
   "execution_count": null,
   "metadata": {},
   "outputs": [],
   "source": [
    "output_occupancy_vals = sdf_fitting['output'][0].detach().cpu().numpy()\n",
    "output_occupancy_vals = output_occupancy_vals.squeeze()\n",
    "print(output_occupancy_vals.shape)\n",
    "\n"
   ]
  },
  {
   "cell_type": "code",
   "execution_count": null,
   "metadata": {},
   "outputs": [],
   "source": [
    "import mcubes, skimage.measure\n",
    "def march_and_save(occupancy, mcubes_thres, savename, smoothen=False):\n",
    "    '''\n",
    "        Convert volumetric occupancy cube to a 3D mesh\n",
    "        \n",
    "        Inputs:\n",
    "            occupancy: (H, W, T) occupancy volume with values going from 0 to 1\n",
    "            mcubes_thres: Threshold for marching cubes algorithm\n",
    "            savename: DAE file name to save\n",
    "            smoothen: If True, the mesh is binarized, smoothened, and then the\n",
    "                marching cubes is applied\n",
    "        Outputs:\n",
    "            None\n",
    "    '''\n",
    "    if smoothen:\n",
    "        occupancy = occupancy.copy()\n",
    "        occupancy[occupancy < mcubes_thres] = 0.0\n",
    "        occupancy[occupancy >= mcubes_thres] = 1.0\n",
    "        \n",
    "        # occupancy = mcubes.smooth(occupancy, method='gaussian', sigma=1)\n",
    "        mcubes_thres = 0\n",
    "    vertices, faces = mcubes.marching_cubes(occupancy, mcubes_thres, )\n",
    "    \n",
    "    #vertices /= occupancy.shape[0]\n",
    "        \n",
    "    mcubes.export_mesh(vertices, faces, savename)"
   ]
  },
  {
   "cell_type": "code",
   "execution_count": null,
   "metadata": {},
   "outputs": [],
   "source": [
    "march_and_save(output_occupancy_vals, 0.5, './data/proteins/output/output_mesh_smooth_with_FFN.dae', smoothen=True)"
   ]
  },
  {
   "cell_type": "code",
   "execution_count": null,
   "metadata": {},
   "outputs": [],
   "source": [
    "march_and_save(occupancy_tensor.clone().detach().cpu().numpy()[...,0], 0.5, './data/proteins/output/original_mesh_smooth_with_FFN.dae', smoothen=True)"
   ]
  },
  {
   "cell_type": "code",
   "execution_count": null,
   "metadata": {},
   "outputs": [],
   "source": [
    "occupancy_tensor.shape"
   ]
  },
  {
   "cell_type": "code",
   "execution_count": null,
   "metadata": {},
   "outputs": [],
   "source": [
    "predicted_occupancy_numpy = occupancy_tensor.clone().detach().cpu().numpy()[...,0]\n",
    "coords_np = coords.clone().detach().cpu().numpy()"
   ]
  },
  {
   "cell_type": "code",
   "execution_count": null,
   "metadata": {},
   "outputs": [],
   "source": [
    "print(predicted_occupancy_numpy.shape, coords_np.shape)"
   ]
  },
  {
   "cell_type": "code",
   "execution_count": null,
   "metadata": {},
   "outputs": [],
   "source": [
    "coordinates_for_query = []\n",
    "coords_as_input_to_inr = []\n",
    "occupancy_values = np.zeros((int(H), int(W), int(D), 1))\n",
    "for i in range(pts_coords_occupancy_np.shape[0]):\n",
    "    x, y, z, occ = pts_coords_occupancy_np[i]\n",
    "    x, y, z = np.round(x), np.round(y), np.round(z)\n",
    "    coordinates_for_query.append([x,y,z])\n",
    "    # convert to 0-1 coordinate scale\n",
    "    print(x,y,z)\n",
    "    xnew = (x - H_min) / H\n",
    "    ynew = (y - W_min) / W\n",
    "    znew = (z - D_min) / D\n",
    "\n",
    "    xnew = int(np.clip(int(xnew * H),0,H-1))\n",
    "    ynew = int(np.clip(int(ynew * W),0,W-1))\n",
    "    znew = int(np.clip(int(znew * D),0,D-1))\n",
    "    coords_as_input_to_inr.append([xnew,ynew,znew])\n",
    "    # occupancy_values[xnew, ynew, znew] = occ\n",
    "\n",
    "# occupancy_tensor = torch.from_numpy(occupancy_values).float().cuda()\n",
    "coords_query_wh_tensor = torch.from_numpy(np.array(coords_as_input_to_inr)).float().cuda()\n",
    "print(coords_query_wh_tensor.shape)\n",
    "coords_input_wh_tensor = torch.from_numpy(np.array(coordinates_for_query)).float().cuda()\n",
    "print(coords_input_wh_tensor.shape)"
   ]
  },
  {
   "cell_type": "code",
   "execution_count": null,
   "metadata": {},
   "outputs": [],
   "source": [
    "occupancy_values_test = sdf_inr.render(coords_input_wh_tensor[None,...])['output']"
   ]
  },
  {
   "cell_type": "code",
   "execution_count": null,
   "metadata": {},
   "outputs": [],
   "source": [
    "def export_protein_file(predicted_occupancy_numpy, coords, df, header):\n",
    "    df2  = df.copy()\n",
    "    header2 = header.copy()\n",
    "    print(df2['occupancy'].shape, predicted_occupancy_numpy.flatten().shape)\n",
    "    df2['occupancy'] = 0.0\n",
    "    df2['occupancy'] = predicted_occupancy_numpy.flatten()\n",
    "    return df2.copy()\n",
    "    "
   ]
  },
  {
   "cell_type": "code",
   "execution_count": null,
   "metadata": {},
   "outputs": [],
   "source": [
    "df2_copy = export_protein_file(occupancy_values_test.detach().cpu().numpy().reshape(-1,1), coords_np, protein_data, header)"
   ]
  },
  {
   "cell_type": "code",
   "execution_count": null,
   "metadata": {},
   "outputs": [],
   "source": [
    "df2_copy"
   ]
  },
  {
   "cell_type": "code",
   "execution_count": null,
   "metadata": {},
   "outputs": [],
   "source": [
    "#  atomic_df = PandasPdb().read_pdb(pdb_path)\n",
    "#     if parse_header:\n",
    "#         header = parsePDBHeader(pdb_path)\n",
    "#     else:\n",
    "#         header = None\n",
    "#     atomic_df = atomic_df.get_model(model_index)\n",
    "#     if len(atomic_df.df[\"ATOM\"]) == 0:\n",
    "#         raise ValueError(f\"No model found for index: {model_index}\")\n",
    "\n",
    "#     return pd.concat([atomic_df.df[\"ATOM\"], atomic_df.df[\"HETATM\"], ]), heade"
   ]
  },
  {
   "cell_type": "code",
   "execution_count": null,
   "metadata": {},
   "outputs": [],
   "source": [
    "from biopandas.pdb import PandasPdb\n",
    "\n",
    "# Suppose `df` is your DataFrame with correct PDB columns\n",
    "ppdb = PandasPdb()\n",
    "ppdb.df['ATOM'] = df2_copy[df2_copy['record_name'] == 'ATOM']  # ATOM/HETATM depending on your data\n",
    "ppdb.df['HETATM'] = df2_copy[df2_copy['record_name'] == 'HETATM']  # ATOM/HETATM depending on your data\n",
    "\n",
    "# Save to a PDB file\n",
    "ppdb.to_pdb(path='./data/proteins/output/149l_output.pdb', records=['ATOM','HETATM'], gz=False, append_newline=True)\n"
   ]
  },
  {
   "cell_type": "code",
   "execution_count": null,
   "metadata": {},
   "outputs": [],
   "source": []
  }
 ],
 "metadata": {
  "kernelspec": {
   "display_name": "Python 3",
   "language": "python",
   "name": "python3"
  },
  "language_info": {
   "codemirror_mode": {
    "name": "ipython",
    "version": 3
   },
   "file_extension": ".py",
   "mimetype": "text/x-python",
   "name": "python",
   "nbconvert_exporter": "python",
   "pygments_lexer": "ipython3",
   "version": "3.10.16"
  }
 },
 "nbformat": 4,
 "nbformat_minor": 2
}
